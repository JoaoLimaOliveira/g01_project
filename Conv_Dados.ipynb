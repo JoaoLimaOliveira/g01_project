{
 "cells": [
  {
   "cell_type": "code",
   "execution_count": 1,
   "id": "900395b4-72d5-4735-8d59-adead4cd708d",
   "metadata": {},
   "outputs": [],
   "source": [
    "import pandas as pd"
   ]
  },
  {
   "cell_type": "code",
   "execution_count": 2,
   "id": "e308afec-8d1b-4a45-bda6-55f96357c879",
   "metadata": {},
   "outputs": [],
   "source": [
    "df = pd.read_csv('excel.csv',sep=',')"
   ]
  },
  {
   "cell_type": "code",
   "execution_count": 3,
   "id": "4b2720aa-f838-4c01-8237-0a0df50bb553",
   "metadata": {},
   "outputs": [
    {
     "data": {
      "text/html": [
       "<div>\n",
       "<style scoped>\n",
       "    .dataframe tbody tr th:only-of-type {\n",
       "        vertical-align: middle;\n",
       "    }\n",
       "\n",
       "    .dataframe tbody tr th {\n",
       "        vertical-align: top;\n",
       "    }\n",
       "\n",
       "    .dataframe thead th {\n",
       "        text-align: right;\n",
       "    }\n",
       "</style>\n",
       "<table border=\"1\" class=\"dataframe\">\n",
       "  <thead>\n",
       "    <tr style=\"text-align: right;\">\n",
       "      <th></th>\n",
       "      <th>courses_id</th>\n",
       "      <th>student_id</th>\n",
       "      <th>semester</th>\n",
       "      <th>grade</th>\n",
       "      <th>course_name</th>\n",
       "      <th>credits</th>\n",
       "      <th>departments_id</th>\n",
       "      <th>student_name</th>\n",
       "      <th>student_major</th>\n",
       "      <th>student_email</th>\n",
       "      <th>department_name</th>\n",
       "      <th>dep_building</th>\n",
       "    </tr>\n",
       "  </thead>\n",
       "  <tbody>\n",
       "    <tr>\n",
       "      <th>0</th>\n",
       "      <td>81</td>\n",
       "      <td>2440</td>\n",
       "      <td>Spring 2024</td>\n",
       "      <td>A</td>\n",
       "      <td>Ethics and Computer Science and Artificial Int...</td>\n",
       "      <td>1</td>\n",
       "      <td>5</td>\n",
       "      <td>Jeremy Finley</td>\n",
       "      <td>CS</td>\n",
       "      <td>sergiowells@example.org</td>\n",
       "      <td>Mechanical and Aerospace Engineering</td>\n",
       "      <td>Malone Turnpike</td>\n",
       "    </tr>\n",
       "    <tr>\n",
       "      <th>1</th>\n",
       "      <td>196</td>\n",
       "      <td>1798</td>\n",
       "      <td>Spring 2024</td>\n",
       "      <td>F</td>\n",
       "      <td>Research in Environmental and Sustainability S...</td>\n",
       "      <td>1</td>\n",
       "      <td>20</td>\n",
       "      <td>Matthew Moore</td>\n",
       "      <td>Physics</td>\n",
       "      <td>shawnjohnson@example.net</td>\n",
       "      <td>Environmental and Sustainability Studies</td>\n",
       "      <td>Brittany Mission</td>\n",
       "    </tr>\n",
       "    <tr>\n",
       "      <th>2</th>\n",
       "      <td>183</td>\n",
       "      <td>1698</td>\n",
       "      <td>Fall 2023</td>\n",
       "      <td>D</td>\n",
       "      <td>Principles of Medicine and Biomedical Research</td>\n",
       "      <td>3</td>\n",
       "      <td>16</td>\n",
       "      <td>Shannon Torres</td>\n",
       "      <td>CS</td>\n",
       "      <td>christinesmall@example.org</td>\n",
       "      <td>Medicine and Biomedical Research</td>\n",
       "      <td>Brenda Prairie</td>\n",
       "    </tr>\n",
       "  </tbody>\n",
       "</table>\n",
       "</div>"
      ],
      "text/plain": [
       "   courses_id  student_id     semester grade  \\\n",
       "0          81        2440  Spring 2024     A   \n",
       "1         196        1798  Spring 2024     F   \n",
       "2         183        1698    Fall 2023     D   \n",
       "\n",
       "                                         course_name  credits  departments_id  \\\n",
       "0  Ethics and Computer Science and Artificial Int...        1               5   \n",
       "1  Research in Environmental and Sustainability S...        1              20   \n",
       "2     Principles of Medicine and Biomedical Research        3              16   \n",
       "\n",
       "     student_name student_major               student_email  \\\n",
       "0   Jeremy Finley            CS     sergiowells@example.org   \n",
       "1   Matthew Moore       Physics    shawnjohnson@example.net   \n",
       "2  Shannon Torres            CS  christinesmall@example.org   \n",
       "\n",
       "                            department_name      dep_building  \n",
       "0      Mechanical and Aerospace Engineering   Malone Turnpike  \n",
       "1  Environmental and Sustainability Studies  Brittany Mission  \n",
       "2          Medicine and Biomedical Research    Brenda Prairie  "
      ]
     },
     "execution_count": 3,
     "metadata": {},
     "output_type": "execute_result"
    }
   ],
   "source": [
    "df.head(3)"
   ]
  },
  {
   "cell_type": "code",
   "execution_count": 4,
   "id": "c4086cd2-04d8-487f-beea-7956f5fd3c9e",
   "metadata": {},
   "outputs": [],
   "source": [
    "Course = df.loc[:,['courses_id','course_name','credits','departments_id']]"
   ]
  },
  {
   "cell_type": "code",
   "execution_count": 5,
   "id": "f545ee44-4927-402a-bd51-7121236e195d",
   "metadata": {},
   "outputs": [
    {
     "data": {
      "text/html": [
       "<div>\n",
       "<style scoped>\n",
       "    .dataframe tbody tr th:only-of-type {\n",
       "        vertical-align: middle;\n",
       "    }\n",
       "\n",
       "    .dataframe tbody tr th {\n",
       "        vertical-align: top;\n",
       "    }\n",
       "\n",
       "    .dataframe thead th {\n",
       "        text-align: right;\n",
       "    }\n",
       "</style>\n",
       "<table border=\"1\" class=\"dataframe\">\n",
       "  <thead>\n",
       "    <tr style=\"text-align: right;\">\n",
       "      <th></th>\n",
       "      <th>courses_id</th>\n",
       "      <th>course_name</th>\n",
       "      <th>credits</th>\n",
       "      <th>departments_id</th>\n",
       "    </tr>\n",
       "  </thead>\n",
       "  <tbody>\n",
       "    <tr>\n",
       "      <th>0</th>\n",
       "      <td>81</td>\n",
       "      <td>Ethics and Computer Science and Artificial Int...</td>\n",
       "      <td>1</td>\n",
       "      <td>5</td>\n",
       "    </tr>\n",
       "    <tr>\n",
       "      <th>1</th>\n",
       "      <td>196</td>\n",
       "      <td>Research in Environmental and Sustainability S...</td>\n",
       "      <td>1</td>\n",
       "      <td>20</td>\n",
       "    </tr>\n",
       "    <tr>\n",
       "      <th>2</th>\n",
       "      <td>183</td>\n",
       "      <td>Principles of Medicine and Biomedical Research</td>\n",
       "      <td>3</td>\n",
       "      <td>16</td>\n",
       "    </tr>\n",
       "  </tbody>\n",
       "</table>\n",
       "</div>"
      ],
      "text/plain": [
       "   courses_id                                        course_name  credits  \\\n",
       "0          81  Ethics and Computer Science and Artificial Int...        1   \n",
       "1         196  Research in Environmental and Sustainability S...        1   \n",
       "2         183     Principles of Medicine and Biomedical Research        3   \n",
       "\n",
       "   departments_id  \n",
       "0               5  \n",
       "1              20  \n",
       "2              16  "
      ]
     },
     "execution_count": 5,
     "metadata": {},
     "output_type": "execute_result"
    }
   ],
   "source": [
    "Course.head(3)"
   ]
  },
  {
   "cell_type": "code",
   "execution_count": 6,
   "id": "3b6c5f77-fd86-42c9-b33c-8100a19b20b8",
   "metadata": {},
   "outputs": [],
   "source": [
    "Course.columns=['id','course_name','credits','departments_id']"
   ]
  },
  {
   "cell_type": "code",
   "execution_count": 7,
   "id": "70e2b82a",
   "metadata": {},
   "outputs": [],
   "source": [
    "Course.drop_duplicates(subset='id',inplace=True)"
   ]
  },
  {
   "cell_type": "code",
   "execution_count": 8,
   "id": "94befb1d-65bf-4e55-b92d-7ff2d73e3472",
   "metadata": {},
   "outputs": [
    {
     "data": {
      "text/plain": [
       "200"
      ]
     },
     "execution_count": 8,
     "metadata": {},
     "output_type": "execute_result"
    }
   ],
   "source": [
    "len(Course)"
   ]
  },
  {
   "cell_type": "code",
   "execution_count": 9,
   "id": "bc355485-d5a4-4d7f-9e0d-b4849a59a375",
   "metadata": {},
   "outputs": [],
   "source": [
    "Student = df.loc[:,['student_id','student_name','student_major','student_email']]"
   ]
  },
  {
   "cell_type": "code",
   "execution_count": 10,
   "id": "b0bf856e-fbf9-4c1a-9a1d-b49a537d0498",
   "metadata": {},
   "outputs": [
    {
     "data": {
      "text/html": [
       "<div>\n",
       "<style scoped>\n",
       "    .dataframe tbody tr th:only-of-type {\n",
       "        vertical-align: middle;\n",
       "    }\n",
       "\n",
       "    .dataframe tbody tr th {\n",
       "        vertical-align: top;\n",
       "    }\n",
       "\n",
       "    .dataframe thead th {\n",
       "        text-align: right;\n",
       "    }\n",
       "</style>\n",
       "<table border=\"1\" class=\"dataframe\">\n",
       "  <thead>\n",
       "    <tr style=\"text-align: right;\">\n",
       "      <th></th>\n",
       "      <th>student_id</th>\n",
       "      <th>student_name</th>\n",
       "      <th>student_major</th>\n",
       "      <th>student_email</th>\n",
       "    </tr>\n",
       "  </thead>\n",
       "  <tbody>\n",
       "    <tr>\n",
       "      <th>0</th>\n",
       "      <td>2440</td>\n",
       "      <td>Jeremy Finley</td>\n",
       "      <td>CS</td>\n",
       "      <td>sergiowells@example.org</td>\n",
       "    </tr>\n",
       "    <tr>\n",
       "      <th>1</th>\n",
       "      <td>1798</td>\n",
       "      <td>Matthew Moore</td>\n",
       "      <td>Physics</td>\n",
       "      <td>shawnjohnson@example.net</td>\n",
       "    </tr>\n",
       "    <tr>\n",
       "      <th>2</th>\n",
       "      <td>1698</td>\n",
       "      <td>Shannon Torres</td>\n",
       "      <td>CS</td>\n",
       "      <td>christinesmall@example.org</td>\n",
       "    </tr>\n",
       "  </tbody>\n",
       "</table>\n",
       "</div>"
      ],
      "text/plain": [
       "   student_id    student_name student_major               student_email\n",
       "0        2440   Jeremy Finley            CS     sergiowells@example.org\n",
       "1        1798   Matthew Moore       Physics    shawnjohnson@example.net\n",
       "2        1698  Shannon Torres            CS  christinesmall@example.org"
      ]
     },
     "execution_count": 10,
     "metadata": {},
     "output_type": "execute_result"
    }
   ],
   "source": [
    "Student.head(3)"
   ]
  },
  {
   "cell_type": "code",
   "execution_count": 11,
   "id": "4f2d3ba6-8d39-4772-938b-8f1561125ef4",
   "metadata": {},
   "outputs": [],
   "source": [
    "Student.columns=['id','student_name','student_major','student_email']"
   ]
  },
  {
   "cell_type": "code",
   "execution_count": 12,
   "id": "1ea2f389-d450-4b0c-992b-765ba6ea4c5f",
   "metadata": {},
   "outputs": [],
   "source": [
    "Student.drop_duplicates(subset='id',inplace=True)"
   ]
  },
  {
   "cell_type": "code",
   "execution_count": 13,
   "id": "8c97d410-9d48-4ce2-914d-469b9696e58e",
   "metadata": {},
   "outputs": [
    {
     "data": {
      "text/plain": [
       "4752"
      ]
     },
     "execution_count": 13,
     "metadata": {},
     "output_type": "execute_result"
    }
   ],
   "source": [
    "len(Student)"
   ]
  },
  {
   "cell_type": "code",
   "execution_count": 14,
   "id": "9e7ee0bd-58f5-4ad9-9221-7d5c580a5a2d",
   "metadata": {},
   "outputs": [
    {
     "data": {
      "text/html": [
       "<div>\n",
       "<style scoped>\n",
       "    .dataframe tbody tr th:only-of-type {\n",
       "        vertical-align: middle;\n",
       "    }\n",
       "\n",
       "    .dataframe tbody tr th {\n",
       "        vertical-align: top;\n",
       "    }\n",
       "\n",
       "    .dataframe thead th {\n",
       "        text-align: right;\n",
       "    }\n",
       "</style>\n",
       "<table border=\"1\" class=\"dataframe\">\n",
       "  <thead>\n",
       "    <tr style=\"text-align: right;\">\n",
       "      <th></th>\n",
       "      <th>id</th>\n",
       "      <th>student_name</th>\n",
       "      <th>student_major</th>\n",
       "      <th>student_email</th>\n",
       "    </tr>\n",
       "  </thead>\n",
       "  <tbody>\n",
       "    <tr>\n",
       "      <th>0</th>\n",
       "      <td>2440</td>\n",
       "      <td>Jeremy Finley</td>\n",
       "      <td>CS</td>\n",
       "      <td>sergiowells@example.org</td>\n",
       "    </tr>\n",
       "    <tr>\n",
       "      <th>1</th>\n",
       "      <td>1798</td>\n",
       "      <td>Matthew Moore</td>\n",
       "      <td>Physics</td>\n",
       "      <td>shawnjohnson@example.net</td>\n",
       "    </tr>\n",
       "    <tr>\n",
       "      <th>2</th>\n",
       "      <td>1698</td>\n",
       "      <td>Shannon Torres</td>\n",
       "      <td>CS</td>\n",
       "      <td>christinesmall@example.org</td>\n",
       "    </tr>\n",
       "  </tbody>\n",
       "</table>\n",
       "</div>"
      ],
      "text/plain": [
       "     id    student_name student_major               student_email\n",
       "0  2440   Jeremy Finley            CS     sergiowells@example.org\n",
       "1  1798   Matthew Moore       Physics    shawnjohnson@example.net\n",
       "2  1698  Shannon Torres            CS  christinesmall@example.org"
      ]
     },
     "execution_count": 14,
     "metadata": {},
     "output_type": "execute_result"
    }
   ],
   "source": [
    "Student.head(3)"
   ]
  },
  {
   "cell_type": "code",
   "execution_count": 15,
   "id": "2b57c005-1048-4ecf-b9ba-1dc1b429c201",
   "metadata": {},
   "outputs": [],
   "source": [
    "Department = df.loc[:,['departments_id','department_name', 'dep_building']]"
   ]
  },
  {
   "cell_type": "code",
   "execution_count": 16,
   "id": "75c471fc-bbc8-4778-90bb-5ac1b3e8b4cd",
   "metadata": {},
   "outputs": [],
   "source": [
    "Department.columns=['id','department_name', 'dep_building']"
   ]
  },
  {
   "cell_type": "code",
   "execution_count": 17,
   "id": "754033c3",
   "metadata": {},
   "outputs": [],
   "source": [
    "Department.drop_duplicates(subset='id',inplace=True)"
   ]
  },
  {
   "cell_type": "code",
   "execution_count": 18,
   "id": "2d3db75d",
   "metadata": {},
   "outputs": [
    {
     "data": {
      "text/plain": [
       "20"
      ]
     },
     "execution_count": 18,
     "metadata": {},
     "output_type": "execute_result"
    }
   ],
   "source": [
    "len(Department)"
   ]
  },
  {
   "cell_type": "code",
   "execution_count": 19,
   "id": "968c0ceb",
   "metadata": {},
   "outputs": [
    {
     "data": {
      "text/html": [
       "<div>\n",
       "<style scoped>\n",
       "    .dataframe tbody tr th:only-of-type {\n",
       "        vertical-align: middle;\n",
       "    }\n",
       "\n",
       "    .dataframe tbody tr th {\n",
       "        vertical-align: top;\n",
       "    }\n",
       "\n",
       "    .dataframe thead th {\n",
       "        text-align: right;\n",
       "    }\n",
       "</style>\n",
       "<table border=\"1\" class=\"dataframe\">\n",
       "  <thead>\n",
       "    <tr style=\"text-align: right;\">\n",
       "      <th></th>\n",
       "      <th>id</th>\n",
       "      <th>department_name</th>\n",
       "      <th>dep_building</th>\n",
       "    </tr>\n",
       "  </thead>\n",
       "  <tbody>\n",
       "    <tr>\n",
       "      <th>0</th>\n",
       "      <td>5</td>\n",
       "      <td>Mechanical and Aerospace Engineering</td>\n",
       "      <td>Malone Turnpike</td>\n",
       "    </tr>\n",
       "    <tr>\n",
       "      <th>1</th>\n",
       "      <td>20</td>\n",
       "      <td>Environmental and Sustainability Studies</td>\n",
       "      <td>Brittany Mission</td>\n",
       "    </tr>\n",
       "    <tr>\n",
       "      <th>2</th>\n",
       "      <td>16</td>\n",
       "      <td>Medicine and Biomedical Research</td>\n",
       "      <td>Brenda Prairie</td>\n",
       "    </tr>\n",
       "  </tbody>\n",
       "</table>\n",
       "</div>"
      ],
      "text/plain": [
       "   id                           department_name      dep_building\n",
       "0   5      Mechanical and Aerospace Engineering   Malone Turnpike\n",
       "1  20  Environmental and Sustainability Studies  Brittany Mission\n",
       "2  16          Medicine and Biomedical Research    Brenda Prairie"
      ]
     },
     "execution_count": 19,
     "metadata": {},
     "output_type": "execute_result"
    }
   ],
   "source": [
    "Department.head(3)"
   ]
  },
  {
   "cell_type": "code",
   "execution_count": 20,
   "id": "a3236f16",
   "metadata": {},
   "outputs": [],
   "source": [
    "Course_Student = df.loc[:,['semester','grade','student_id','courses_id']]"
   ]
  },
  {
   "cell_type": "code",
   "execution_count": 21,
   "id": "07b9eb39",
   "metadata": {},
   "outputs": [],
   "source": [
    "Course_Student.insert(0, 'id', range(1,len(Course_Student) + 1))"
   ]
  },
  {
   "cell_type": "code",
   "execution_count": 22,
   "id": "f11bbfb2",
   "metadata": {},
   "outputs": [],
   "source": [
    "Course_Student.columns=['id','semester','grade','student_id','courses_id']"
   ]
  },
  {
   "cell_type": "code",
   "execution_count": 23,
   "id": "f564c16c",
   "metadata": {},
   "outputs": [
    {
     "data": {
      "text/html": [
       "<div>\n",
       "<style scoped>\n",
       "    .dataframe tbody tr th:only-of-type {\n",
       "        vertical-align: middle;\n",
       "    }\n",
       "\n",
       "    .dataframe tbody tr th {\n",
       "        vertical-align: top;\n",
       "    }\n",
       "\n",
       "    .dataframe thead th {\n",
       "        text-align: right;\n",
       "    }\n",
       "</style>\n",
       "<table border=\"1\" class=\"dataframe\">\n",
       "  <thead>\n",
       "    <tr style=\"text-align: right;\">\n",
       "      <th></th>\n",
       "      <th>id</th>\n",
       "      <th>semester</th>\n",
       "      <th>grade</th>\n",
       "      <th>student_id</th>\n",
       "      <th>courses_id</th>\n",
       "    </tr>\n",
       "  </thead>\n",
       "  <tbody>\n",
       "    <tr>\n",
       "      <th>0</th>\n",
       "      <td>1</td>\n",
       "      <td>Spring 2024</td>\n",
       "      <td>A</td>\n",
       "      <td>2440</td>\n",
       "      <td>81</td>\n",
       "    </tr>\n",
       "    <tr>\n",
       "      <th>1</th>\n",
       "      <td>2</td>\n",
       "      <td>Spring 2024</td>\n",
       "      <td>F</td>\n",
       "      <td>1798</td>\n",
       "      <td>196</td>\n",
       "    </tr>\n",
       "    <tr>\n",
       "      <th>2</th>\n",
       "      <td>3</td>\n",
       "      <td>Fall 2023</td>\n",
       "      <td>D</td>\n",
       "      <td>1698</td>\n",
       "      <td>183</td>\n",
       "    </tr>\n",
       "  </tbody>\n",
       "</table>\n",
       "</div>"
      ],
      "text/plain": [
       "   id     semester grade  student_id  courses_id\n",
       "0   1  Spring 2024     A        2440          81\n",
       "1   2  Spring 2024     F        1798         196\n",
       "2   3    Fall 2023     D        1698         183"
      ]
     },
     "execution_count": 23,
     "metadata": {},
     "output_type": "execute_result"
    }
   ],
   "source": [
    "Course_Student.head(3)"
   ]
  },
  {
   "cell_type": "code",
   "execution_count": 24,
   "id": "8cd2c356",
   "metadata": {},
   "outputs": [
    {
     "name": "stdout",
     "output_type": "stream",
     "text": [
      "Existing department IDs: [1, 2, 3, 4, 5, 6, 7, 8, 9, 10, 11, 12, 13, 14, 15, 16, 17, 18, 19, 20]\n",
      "Missing department IDs: []\n"
     ]
    }
   ],
   "source": [
    "# Check which department IDs actually exist\n",
    "existing_depts = Department['id'].unique()\n",
    "print(\"Existing department IDs:\", sorted(existing_depts))\n",
    "\n",
    "# Find which IDs in your data are missing\n",
    "missing_depts = set(df['departments_id'].unique()) - set(existing_depts)\n",
    "print(\"Missing department IDs:\", sorted(missing_depts))"
   ]
  },
  {
   "cell_type": "code",
   "execution_count": 25,
   "id": "81f116f5",
   "metadata": {},
   "outputs": [],
   "source": [
    "# Create a DataFrame with missing departments (example)\n",
    "missing_data = pd.DataFrame({\n",
    "    'id': [1, 2, 3],  # Add all missing IDs\n",
    "    'department_name': ['Unknown Dept 1', 'Unknown Dept 2', 'Unknown Dept 3'],\n",
    "    'dep_building': ['TBD'] * 3\n",
    "})\n",
    "\n",
    "# Add to Department table\n",
    "Department = pd.concat([Department, missing_data]).drop_duplicates('id')"
   ]
  },
  {
   "cell_type": "code",
   "execution_count": 26,
   "id": "83fbe85c",
   "metadata": {},
   "outputs": [],
   "source": [
    "from sqlalchemy import create_engine"
   ]
  },
  {
   "cell_type": "code",
   "execution_count": 27,
   "id": "92516828",
   "metadata": {},
   "outputs": [],
   "source": [
    "\n",
    "engine = create_engine('sqlite:///DB3.db')"
   ]
  },
  {
   "cell_type": "code",
   "execution_count": 28,
   "id": "7b1035af",
   "metadata": {},
   "outputs": [
    {
     "data": {
      "text/plain": [
       "4752"
      ]
     },
     "execution_count": 28,
     "metadata": {},
     "output_type": "execute_result"
    }
   ],
   "source": [
    "Student.to_sql('Student', con =engine, if_exists='replace', index=False)"
   ]
  },
  {
   "cell_type": "code",
   "execution_count": 29,
   "id": "f13434cd",
   "metadata": {},
   "outputs": [
    {
     "data": {
      "text/plain": [
       "200"
      ]
     },
     "execution_count": 29,
     "metadata": {},
     "output_type": "execute_result"
    }
   ],
   "source": [
    "Course.to_sql('Course', con =engine, if_exists='replace', index=False)"
   ]
  },
  {
   "cell_type": "code",
   "execution_count": 30,
   "id": "fa6c9c7f",
   "metadata": {},
   "outputs": [
    {
     "data": {
      "text/plain": [
       "20"
      ]
     },
     "execution_count": 30,
     "metadata": {},
     "output_type": "execute_result"
    }
   ],
   "source": [
    "Department.to_sql('Department', con =engine, if_exists='replace', index=False)"
   ]
  },
  {
   "cell_type": "code",
   "execution_count": 31,
   "id": "980e5de3",
   "metadata": {},
   "outputs": [
    {
     "data": {
      "text/plain": [
       "15000"
      ]
     },
     "execution_count": 31,
     "metadata": {},
     "output_type": "execute_result"
    }
   ],
   "source": [
    "Course_Student.to_sql('Course_Student', con =engine, if_exists='replace', index=False)"
   ]
  },
  {
   "cell_type": "code",
   "execution_count": 32,
   "id": "530aee01",
   "metadata": {},
   "outputs": [],
   "source": [
    "engine.dispose()"
   ]
  }
 ],
 "metadata": {
  "kernelspec": {
   "display_name": "base",
   "language": "python",
   "name": "python3"
  },
  "language_info": {
   "codemirror_mode": {
    "name": "ipython",
    "version": 3
   },
   "file_extension": ".py",
   "mimetype": "text/x-python",
   "name": "python",
   "nbconvert_exporter": "python",
   "pygments_lexer": "ipython3",
   "version": "3.12.4"
  }
 },
 "nbformat": 4,
 "nbformat_minor": 5
}
